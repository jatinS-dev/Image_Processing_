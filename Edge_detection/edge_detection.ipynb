{
 "cells": [
  {
   "cell_type": "code",
   "execution_count": 71,
   "metadata": {},
   "outputs": [],
   "source": [
    "from PIL import Image\n",
    "import numpy as np\n",
    "import matplotlib.pyplot as plt\n",
    "import math"
   ]
  },
  {
   "cell_type": "code",
   "execution_count": 72,
   "metadata": {},
   "outputs": [],
   "source": [
    "# edge detection kernel\n",
    "'''## prewitt operator\n",
    "vertical_edge_kernel = [[-1, 0, 1],\n",
    "                        [-1, 0, 1],\n",
    "                        [-1, 0, 1]]\n",
    "\n",
    "horizontal_edge_kernel = [[-1, -1, -1],\n",
    "                          [ 0,  0,  0],\n",
    "                          [ 1,  1,  1]]'''\n",
    "\n",
    "# Sobel operator\n",
    "sobel_xkernel = [[ -1, 0, 1],\n",
    "                 [ -2, 0, 2],\n",
    "                 [ -1, 0, 1]]\n",
    "\n",
    "sobel_ykernel = [[-1 ,-2 ,-1],\n",
    "                 [ 0 , 0 , 0],\n",
    "                 [ 1 , 2 , 1]]\n",
    "\n",
    "\n",
    "# Blur kernel\n",
    "## Gaussian kernel\n",
    "gaussian_kernel = [[1 / 256, 4  / 256,  6 / 256,  4 / 256, 1 / 256],\n",
    "                   [4 / 256, 16 / 256, 24 / 256, 16 / 256, 4 / 256],\n",
    "                   [6 / 256, 24 / 256, 36 / 256, 24 / 256, 6 / 256],\n",
    "                   [4 / 256, 16 / 256, 24 / 256, 16 / 256, 4 / 256],\n",
    "                   [1 / 256, 4  / 256,  6 / 256,  4 / 256, 1 / 256]]\n"
   ]
  },
  {
   "cell_type": "markdown",
   "metadata": {},
   "source": [
    "## Function for Edge-Detection"
   ]
  },
  {
   "cell_type": "code",
   "execution_count": 73,
   "metadata": {},
   "outputs": [],
   "source": [
    "def kernel_app(input_image, kernel):\n",
    "    width = input_image.shape[0]\n",
    "    height = input_image.shape[1]\n",
    "    \n",
    "    # Middle of the kernel\n",
    "    offset = len(kernel) // 2\n",
    "\n",
    "    # Create empty output array\n",
    "    output_image = np.empty((width,height))\n",
    "    output_image.fill(0)\n",
    "    # Compute convolution between value and kernels\n",
    "    for x in range(offset, width - offset):\n",
    "        for y in range(offset, height - offset):\n",
    "            for a in range(len(kernel)):\n",
    "                for b in range(len(kernel)):\n",
    "                    xn = x + a - offset\n",
    "                    yn = y + b - offset\n",
    "                    value = input_image[xn][yn]\n",
    "                    output_image[x][y] += value * kernel[a][b]\n",
    "            output_image[x][y] = math.sqrt(output_image[x][y]**2)\n",
    "    return output_image\n"
   ]
  },
  {
   "cell_type": "markdown",
   "metadata": {},
   "source": [
    "## Functions for Canny Edge Detection "
   ]
  },
  {
   "cell_type": "code",
   "execution_count": 74,
   "metadata": {},
   "outputs": [],
   "source": [
    "def non_max_suppression(img, theta):\n",
    "    row, column = img.shape\n",
    "    non_max = np.zeros((row,column))\n",
    "    #converting radian to degrees\n",
    "    angle = theta * 180. / np.pi\n",
    "    angle[angle < 0] += 180\n",
    "\n",
    "    for i in range(1,row-1):\n",
    "        for j in range(1,column-1):\n",
    "            \n",
    "               #angle 0\n",
    "                if (0 <= angle[i,j] < 22.5) or (157.5 <= angle[i,j] <= 180):\n",
    "                    q = img[i, j+1]\n",
    "                    r = img[i, j-1]\n",
    "                #angle 45\n",
    "                elif (22.5 <= angle[i,j] < 67.5):\n",
    "                    q = img[i+1, j-1]\n",
    "                    r = img[i-1, j+1]\n",
    "                #angle 90\n",
    "                elif (67.5 <= angle[i,j] < 112.5):\n",
    "                    q = img[i+1, j]\n",
    "                    r = img[i-1, j]\n",
    "                #angle 135\n",
    "                elif (112.5 <= angle[i,j] < 157.5):\n",
    "                    q = img[i-1, j-1]\n",
    "                    r = img[i+1, j+1]\n",
    "\n",
    "                if (img[i,j] >= q) and (img[i,j] >= r):\n",
    "                    non_max[i,j] = img[i,j]\n",
    "                else:\n",
    "                    non_max[i,j] = 0\n",
    "    \n",
    "    return non_max"
   ]
  },
  {
   "cell_type": "code",
   "execution_count": 75,
   "metadata": {},
   "outputs": [],
   "source": [
    "def threshold(img, lowThresholdRatio=0.05, highThresholdRatio=0.09):\n",
    "    \n",
    "    highThreshold = img.max() * highThresholdRatio;\n",
    "    lowThreshold = img.max() * lowThresholdRatio;\n",
    "    \n",
    "    row, column = img.shape\n",
    "    result = np.zeros((row,column))\n",
    "    \n",
    "    # all weak pixels are marked value 25, all strong pixels are marked value 255\n",
    "    weak = np.int32(25)\n",
    "    strong = np.int32(255)\n",
    "    \n",
    "    strong_i, strong_j = np.where(img >= highThreshold)\n",
    "    weak_i, weak_j = np.where((img <= highThreshold) & (img >= lowThreshold))\n",
    "    \n",
    "    result[strong_i, strong_j] = strong\n",
    "    result[weak_i, weak_j] = weak\n",
    "    \n",
    "    return (result, weak, strong)"
   ]
  },
  {
   "cell_type": "code",
   "execution_count": 76,
   "metadata": {},
   "outputs": [],
   "source": [
    "def hysteresis(img, weak=25, strong=255):\n",
    "    row, column = img.shape  \n",
    "    for i in range(1, row-1):\n",
    "        for j in range(1, column-1):\n",
    "            if (img[i,j] == weak):\n",
    "                if ((img[i+1, j-1] == strong) or (img[i+1, j] == strong) or (img[i+1, j+1] == strong)\n",
    "                or (img[i, j-1] == strong) or (img[i, j+1] == strong) \n",
    "                or (img[i-1, j-1] == strong) or (img[i-1, j] == strong) or (img[i-1, j+1] == strong)):\n",
    "                    img[i, j] = strong\n",
    "                else:\n",
    "                    img[i, j] = 0\n",
    "    return img"
   ]
  },
  {
   "cell_type": "markdown",
   "metadata": {},
   "source": [
    "## Loading and pre-processing image"
   ]
  },
  {
   "cell_type": "code",
   "execution_count": 77,
   "metadata": {},
   "outputs": [],
   "source": [
    "# Load input image\n",
    "colour_img = np.array(Image.open(\"edge-detection.png\"))\n",
    "\n",
    "# converting color img to gray-scale\n",
    "r, g, b = colour_img[:,:,0], colour_img[:,:,1], colour_img[:,:,2]\n",
    "gray_img = 0.2989 * r + 0.5870 * g + 0.1140 * b\n",
    "\n",
    "# blurring the image using gaussian-blur kernel\n",
    "img = kernel_app(gray_img, gaussian_kernel)\n",
    "input_img = Image.fromarray(np.uint8(img))\n",
    "input_img.show()"
   ]
  },
  {
   "cell_type": "markdown",
   "metadata": {},
   "source": [
    "## Vertical Edge Detection"
   ]
  },
  {
   "cell_type": "code",
   "execution_count": 78,
   "metadata": {},
   "outputs": [],
   "source": [
    "v_edge = Image.fromarray(np.uint8(kernel_app(img, sobel_xkernel)))\n",
    "v_edge.save(\"v-edge.png\")\n",
    "v_edge.show()"
   ]
  },
  {
   "cell_type": "markdown",
   "metadata": {},
   "source": [
    "## Horizontal Edge Detection"
   ]
  },
  {
   "cell_type": "code",
   "execution_count": 79,
   "metadata": {},
   "outputs": [],
   "source": [
    "h_edge = Image.fromarray(np.uint8(kernel_app(img, sobel_ykernel)))\n",
    "h_edge.save(\"h-edge.png\")\n",
    "h_edge.show()"
   ]
  },
  {
   "cell_type": "markdown",
   "metadata": {},
   "source": [
    "## Sobel Edge Detection"
   ]
  },
  {
   "cell_type": "code",
   "execution_count": 80,
   "metadata": {},
   "outputs": [],
   "source": [
    "sobel_x = kernel_app(img, sobel_xkernel)\n",
    "sobel_y = kernel_app(img, sobel_ykernel)\n",
    "theta = np.arctan2(sobel_y, sobel_x)\n",
    "sobel = np.empty((sobel_x.shape[0], sobel_x.shape[1]))\n",
    "for i in range(sobel_x.shape[0]):\n",
    "    for j in range(sobel_x.shape[1]):\n",
    "        sobel[i][j] = math.sqrt(sobel_x[i][j]**2 + sobel_y[i][j]**2)\n",
    "sobel_img = Image.fromarray(np.uint8(sobel))\n",
    "sobel_img.save(\"sobel.png\")"
   ]
  },
  {
   "cell_type": "code",
   "execution_count": 81,
   "metadata": {},
   "outputs": [],
   "source": [
    "sobel_img.show()"
   ]
  },
  {
   "cell_type": "markdown",
   "metadata": {},
   "source": [
    "## Canny Edge Detection"
   ]
  },
  {
   "cell_type": "code",
   "execution_count": 82,
   "metadata": {},
   "outputs": [],
   "source": [
    "# 1. blurring image by using gaussian blur\n",
    "# 2. calculating gradient value by using sobel opertor\n",
    "# 3. thinning the edges along the angle, theta- non_max_suppresion\n",
    "non_max_supp = non_max_suppression(sobel, theta)\n",
    "# 4. removing non-relevant pixels\n",
    "double_threshold = threshold(non_max_supp)\n",
    "# 5. converting weak pixel into strong, if there are surrounded by any strong pixel\n",
    "canny = hysteresis(double_threshold[0], double_threshold[1], double_threshold[2])\n",
    "\n",
    "# converting the np array to image\n",
    "canny_img = Image.fromarray(np.uint8(double_threshold[0]))\n",
    "canny_img.save(\"canny.png\")"
   ]
  },
  {
   "cell_type": "code",
   "execution_count": 83,
   "metadata": {},
   "outputs": [],
   "source": [
    "canny_img.show()"
   ]
  },
  {
   "cell_type": "code",
   "execution_count": null,
   "metadata": {},
   "outputs": [],
   "source": []
  }
 ],
 "metadata": {
  "kernelspec": {
   "display_name": "Python 3",
   "language": "python",
   "name": "python3"
  },
  "language_info": {
   "codemirror_mode": {
    "name": "ipython",
    "version": 3
   },
   "file_extension": ".py",
   "mimetype": "text/x-python",
   "name": "python",
   "nbconvert_exporter": "python",
   "pygments_lexer": "ipython3",
   "version": "3.5.2"
  }
 },
 "nbformat": 4,
 "nbformat_minor": 4
}

